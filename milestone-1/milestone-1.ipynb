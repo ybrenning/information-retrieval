{
 "cells": [
  {
   "cell_type": "markdown",
   "id": "2b9339f2",
   "metadata": {},
   "source": [
    "### Code and Explanation Cells\n",
    "\n",
    "We have first the explanation cells- Then the explained code"
   ]
  },
  {
   "attachments": {},
   "cell_type": "markdown",
   "id": "22d58c66",
   "metadata": {},
   "source": [
    "First, we import the jsonlines library for reading and writing .jsonl files:"
   ]
  },
  {
   "cell_type": "code",
   "execution_count": 2,
   "id": "7a465b00",
   "metadata": {},
   "outputs": [],
   "source": [
    "import jsonlines"
   ]
  },
  {
   "cell_type": "markdown",
   "id": "a1de8faf",
   "metadata": {},
   "source": [
    "A list for all the data - now empty"
   ]
  },
  {
   "cell_type": "code",
   "execution_count": 3,
   "id": "1bc53eb4",
   "metadata": {},
   "outputs": [],
   "source": [
    "data = []"
   ]
  },
  {
   "attachments": {},
   "cell_type": "markdown",
   "id": "997ded0a",
   "metadata": {},
   "source": [
    "The idea of `concatStrings()` is to iterate through the dictionary and append all information to one string (excluding the ID, which will be stored in the field `doc_id`)\n",
    "\n",
    "The method `concatStrings()` creates an empty string. It takes in a `line` parameter, which is the current line read from the jsonl file (one line is one dictionary). The function loops through all keys and values in the line, and if the key is not `id`, it adds this key's value to the string.\n",
    "\n",
    "There is an if-else statement in case the value is a list (this is the case for the authors, which are strings stored in a list). In this case, we iterate over the list and append each element. In the end the method returns the final concatenated string.\n",
    "\n",
    "Note: \n",
    "> In the future, we may change this output format such that our final dict contains other fields, instead of bundling the document's information in a single `text` field. For this first milestone, we will keep this basic format though."
   ]
  },
  {
   "cell_type": "code",
   "execution_count": 4,
   "id": "b05cfc42",
   "metadata": {},
   "outputs": [],
   "source": [
    "def concatStrings(line):\n",
    "    string = ''\n",
    "    for key,value in line.items():\n",
    "        if key != 'id':\n",
    "            if isinstance(value, list):\n",
    "                for item in value:\n",
    "                    string += item + ' '\n",
    "            else:\n",
    "                string += str(value) + ' '\n",
    "    return string"
   ]
  },
  {
   "attachments": {},
   "cell_type": "markdown",
   "id": "ee4108b9",
   "metadata": {},
   "source": [
    "First the jsonl file is opened. For every line of the file (one line is one dictionary) there will be created a new dictionary with two keys: `doc_id` and `text`. \n",
    "\n",
    "The value for `doc_id` is the current line's value corresponding to the `id` key. The value of the key `text` is the `concatString()` method applied to the current line. This dictionary is added to the list `data` we declared in the beginning.\n",
    "\n",
    "After this line of code we have all the files information in the form we want to and saved to a list. Next step is to save the information to a new jsonl file. \n",
    "(In the end, we print the first element of the list to be sure we have the correct format)."
   ]
  },
  {
   "cell_type": "code",
   "execution_count": 5,
   "id": "4fa4bf3d",
   "metadata": {},
   "outputs": [
    {
     "name": "stdout",
     "output_type": "stream",
     "text": [
      "{'doc_id': '2019.sigirconf_workshop-2019birndl.0', 'text': 'CEUR Workshop Proceedings 2414 CEUR-WS.org 2019 http://ceur-ws.org/Vol-2414 urn:nbn:de:0074-2414-3 https://dblp.org/rec/conf/sigir/2019birndl.bib dblp computer science bibliography, https://dblp.org DBLP:conf/sigir/2019birndl proceedings Proceedings of the 4th Joint Workshop on Bibliometric-enhanced Information Retrieval and Natural Language Processing for Digital Libraries (BIRNDL 2019) co-located with the 42nd International ACM SIGIR Conference on Research and Development in Information Retrieval (SIGIR 2019), Paris, France, July 25, 2019 Muthu Kumar Chandrasekaran Philipp Mayr SIGIR 1581522299.0  Proceedings of the 4th Joint Workshop on Bibliometric-enhanced Information Retrieval and Natural Language Processing for Digital Libraries (BIRNDL 2019) co-located with the 42nd International ACM SIGIR Conference on Research and Development in Information Retrieval (SIGIR 2019), Paris, France, July 25, 2019 '}\n"
     ]
    }
   ],
   "source": [
    "with jsonlines.open('ir-anthology-07-11-2021-ss23.jsonl') as f:\n",
    "    for line in f.iter():\n",
    "        data.append({'doc_id': line['id'], 'text': concatStrings(line)})\n",
    "\n",
    "print(data[0])"
   ]
  },
  {
   "attachments": {},
   "cell_type": "markdown",
   "id": "0440f20e-3c64-44c3-8537-f5065f792f8a",
   "metadata": {},
   "source": [
    "We open a new jsonl-file called \"output\" and start adding every item in our list `data` to the new file. After executing this cell we have the data in the form we wanted and in a jsonl-file."
   ]
  },
  {
   "cell_type": "code",
   "execution_count": 6,
   "id": "c0ab4a36-0f0b-46d2-99a4-56e792f70bbc",
   "metadata": {},
   "outputs": [],
   "source": [
    "with jsonlines.open('output.jsonl', mode='w') as writer:\n",
    "    for item in data:\n",
    "        writer.write(item)"
   ]
  },
  {
   "cell_type": "markdown",
   "id": "e4bcc247-ee10-4db4-ac59-876377b5ce9c",
   "metadata": {},
   "source": [
    "### Reflection Cells"
   ]
  },
  {
   "attachments": {},
   "cell_type": "markdown",
   "id": "f266c259",
   "metadata": {},
   "source": [
    "#### Yannick\n",
    "\n",
    "At first, writing up a script to generate the .jsonl containing the document collection was easier than expected. However, I had some difficulty understanding the context of the XML file within this project/milestone. I was already familiar with Python, Docker and Git, but using TIRA was entirely new to me, and as a result I had some difficulties getting it to run. \n",
    "Thankfully, I was able to get help with using `tira-run` from Maik Fröbe who was able to fix the issue on my end as well as clear up questions I and the group had concerning the topics from the XML file, among others. \n",
    "\n",
    "As for the topic, I ended up deciding to go with recommendation systems, as it seems like a relevant area and interests me. \n",
    "\n",
    "All in all, I think the first milestone has been a useful learning experience in laying the foundation for the rest of the project as well as getting to know the rest of the group."
   ]
  },
  {
   "attachments": {},
   "cell_type": "markdown",
   "id": "776b9168",
   "metadata": {},
   "source": [
    "#### Iris\n",
    "\n",
    "The hardest part has been definitely working with new applications like tira, docker and git. There have been many problems to make them work, but at least some solutions have been found. The easiest part has been python programming, because im the most familiar with this programming language. I didn't know though that you can add a dictionary to a list without declaring it first. Finding a theme was also more complicated, than I thought it would be. I didn't want to choose a theme, which would be too broad or too specific. I chose multimedia retrieval, because that iterests me the most at this point - and I'm very curious to find more about it."
   ]
  },
  {
   "attachments": {},
   "cell_type": "markdown",
   "id": "c5299b89",
   "metadata": {},
   "source": [
    "#### Justin\n",
    "I was familiar with python and jupyter notebooks, so the programming part was quite simple for me. On the other hand I had no practical experiences with docker and never heard about TIRA before which resulted in struggling to get started all things up on my system. But team work paid out because we were able to help each other. Finding a topic was a little heavy when you don't have examples you can orientate to, but I think finally I found a suitable one for the next milestones."
   ]
  },
  {
   "attachments": {},
   "cell_type": "markdown",
   "id": "cecae3ae",
   "metadata": {},
   "source": [
    "#### Pauline\n",
    "\n",
    "I broke my leg, so I could not be present at the labs. My team updated me on everything and in that way I could catch up with what I had missed. I was not involved in the creation of the json file. At least, I managed to install all needed programs. We were running in some problems when we were doing the tira excercise to import the dataset. We all are using a windows and it showed the error message that it could not find the desired docker. The Problem was solved when we wrote an email to Kai and could visit him. Apparently, the git bash could not deal with the commands, so when we switched to the windows powershell everything worked. For the creation of my topic, I used the anthology, which helped a lot to get an idea of the data and possible topics. I am a bit worried since my laptop was workking pretty slow, and working with the big dataset might become problematic."
   ]
  },
  {
   "attachments": {},
   "cell_type": "markdown",
   "id": "85a0c997",
   "metadata": {},
   "source": [
    "```\n",
    "tira-run --output-directory ${PWD}/ir-anthology-dataset --image ir-anthology --allow-network true --command '/irds_cli.sh --ir_datasets_id iranthology-ir-lab-sose2023-information-retrievers --output_dataset_path $outputDir'\n",
    "\n",
    "tira-run --input-directory ${PWD}/ir-anthology-dataset --image webis/tira-ir-starter-pyterrier:0.0.1-base --command '/workspace/run-pyterrier-notebook.py --input $inputDataset --output $outputDir --notebook /workspace/full-rank-pipeline.ipynb'\n",
    "\n",
    "docker tag ir-anthology registry.webis.de/code-research/tira/tira-user-ir-lab-sose-2023-information-retrievers/ir-anthology:0.0.1\n",
    "\n",
    "docker push registry.webis.de/code-research/tira/tira-user-ir-lab-sose-2023-information-retrievers/ir-anthology:0.0.1\n",
    "```"
   ]
  }
 ],
 "metadata": {
  "kernelspec": {
   "display_name": "Python 3 (ipykernel)",
   "language": "python",
   "name": "python3"
  },
  "language_info": {
   "codemirror_mode": {
    "name": "ipython",
    "version": 3
   },
   "file_extension": ".py",
   "mimetype": "text/x-python",
   "name": "python",
   "nbconvert_exporter": "python",
   "pygments_lexer": "ipython3",
   "version": "3.10.6"
  }
 },
 "nbformat": 4,
 "nbformat_minor": 5
}
