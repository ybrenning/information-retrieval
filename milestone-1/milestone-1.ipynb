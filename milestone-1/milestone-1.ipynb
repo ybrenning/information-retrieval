{
 "cells": [
  {
   "cell_type": "markdown",
   "id": "742adba1-54cd-47b6-b445-d82cb2250c64",
   "metadata": {},
   "source": [
    "# Template Notebook for Milestones\n",
    "\n",
    "In this notebook you will write your code, producing the required output for each Milestone.\n",
    "\n",
    "Your notebook must contain 3 types of cells:\n",
    "\n",
    "- (1) Code cells: Cells that contain code snippets, capturing one cohesive fragment of your code.\n",
    "- (2) Corresponding explanation cells: Each code cell must be followed by a text cell containing the **english** explanation of what the corresponding code cell does and what it's purpose is\n",
    "- (3) One reflection cell: One cell at the bottom of the notebook that contains your individual reflection on your process working on this milestones in **english**. It could contain technical problems and how you overcame them, it could contain social problems and how you deal with them (group work is hard!), it could contain explanations of prior skills or knowledge that made certain parts of the task easier for you, etc... (those are just suggestions. Your individual reflections will of course contain different/additional aspects)"
   ]
  },
  {
   "cell_type": "markdown",
   "id": "2b9339f2",
   "metadata": {},
   "source": [
    "### Code and Explanation Cells\n",
    "\n",
    "We have first the explanation cells- Then the explained code"
   ]
  },
  {
   "cell_type": "code",
   "execution_count": 1,
   "id": "7a465b00",
   "metadata": {},
   "outputs": [],
   "source": [
    "import jsonlines"
   ]
  },
  {
   "cell_type": "markdown",
   "id": "a1de8faf",
   "metadata": {},
   "source": [
    "A list for all the data - now empty"
   ]
  },
  {
   "cell_type": "code",
   "execution_count": 2,
   "id": "1bc53eb4",
   "metadata": {},
   "outputs": [],
   "source": [
    "data = []"
   ]
  },
  {
   "cell_type": "markdown",
   "id": "997ded0a",
   "metadata": {},
   "source": [
    "So what this method basically does is, that it goes through the dictionary and appends all information to one String - except the id \n",
    "\n",
    "The method concatString creates and empty string. It has 'line' as parameter, which means the line read from the jsonl (one line is one dictionary). The method loops through all keys and values in the line, and if the key is NOT 'id', it adds this keys value to the string.\n",
    "\n",
    "There is a if - else statement in case the value is a list. If it is a list all the elements of this list are added to the string. In the end the method returns the string"
   ]
  },
  {
   "cell_type": "code",
   "execution_count": 7,
   "id": "b05cfc42",
   "metadata": {},
   "outputs": [],
   "source": [
    "def concatStrings(line):\n",
    "    string = ''\n",
    "    for key,value in line.items():\n",
    "        if key != 'id':\n",
    "            if isinstance(value, list):\n",
    "                for item in value:\n",
    "                    string += item + ' '\n",
    "            else:\n",
    "                string += str(value) + ' '\n",
    "    return string"
   ]
  },
  {
   "cell_type": "markdown",
   "id": "ee4108b9",
   "metadata": {},
   "source": [
    "First the jsonl file is opened (and renamed as 'f'). For every line of the file (one line is one dictionary) there will be created a new dictionary with two keys: \"doc_id\" and \"text\". The value for \"doc_id\" is the line's 'id'-key's value. The value of the key \"text\" is the concatString method applied to the line. This dictionary is added to the list 'data' we declared in the beginning. After this line of code we have all the files information in the form we want to and saved to a list. Next step is to save the information to a new jsonl file. \n",
    "(In the end the first element of the list is printed just to check out how it looks like)"
   ]
  },
  {
   "cell_type": "code",
   "execution_count": 5,
   "id": "4fa4bf3d",
   "metadata": {},
   "outputs": [
    {
     "name": "stdout",
     "output_type": "stream",
     "text": [
      "{'doc_id': '2019.sigirconf_workshop-2019birndl.0', 'text': 'CEUR Workshop Proceedings 2414 CEUR-WS.org 2019 http://ceur-ws.org/Vol-2414 urn:nbn:de:0074-2414-3 https://dblp.org/rec/conf/sigir/2019birndl.bib dblp computer science bibliography, https://dblp.org DBLP:conf/sigir/2019birndl proceedings Proceedings of the 4th Joint Workshop on Bibliometric-enhanced Information Retrieval and Natural Language Processing for Digital Libraries (BIRNDL 2019) co-located with the 42nd International ACM SIGIR Conference on Research and Development in Information Retrieval (SIGIR 2019), Paris, France, July 25, 2019 Muthu Kumar Chandrasekaran Philipp Mayr SIGIR 1581522299.0  Proceedings of the 4th Joint Workshop on Bibliometric-enhanced Information Retrieval and Natural Language Processing for Digital Libraries (BIRNDL 2019) co-located with the 42nd International ACM SIGIR Conference on Research and Development in Information Retrieval (SIGIR 2019), Paris, France, July 25, 2019 '}\n"
     ]
    }
   ],
   "source": [
    "with jsonlines.open('ir-anthology-07-11-2021-ss23.jsonl') as f:\n",
    "    for line in f.iter():\n",
    "        data.append({'doc_id': line['id'], 'text': concatStrings(line)})\n",
    "print(data[0])\n"
   ]
  },
  {
   "cell_type": "markdown",
   "id": "0440f20e-3c64-44c3-8537-f5065f792f8a",
   "metadata": {},
   "source": [
    "We open a new jsonl-file called 'output' and start adding every item in our list 'data' to the new file. After executing this cell we have the data in the form we wanted and in a jsonl-file."
   ]
  },
  {
   "cell_type": "code",
   "execution_count": 6,
   "id": "c0ab4a36-0f0b-46d2-99a4-56e792f70bbc",
   "metadata": {},
   "outputs": [],
   "source": [
    "with jsonlines.open('output.jsonl', mode='w') as writer:\n",
    "    for item in data:\n",
    "        writer.write(item)"
   ]
  },
  {
   "cell_type": "markdown",
   "id": "e4bcc247-ee10-4db4-ac59-876377b5ce9c",
   "metadata": {},
   "source": [
    "### Reflection Cells"
   ]
  },
  {
   "cell_type": "markdown",
   "id": "bf70cbc7",
   "metadata": {},
   "source": [
    "#### Kristin"
   ]
  },
  {
   "attachments": {},
   "cell_type": "markdown",
   "id": "f266c259",
   "metadata": {},
   "source": [
    "#### Yannick\n",
    "\n",
    "My reflection test"
   ]
  },
  {
   "attachments": {},
   "cell_type": "markdown",
   "id": "776b9168",
   "metadata": {},
   "source": [
    "#### Iris\n",
    "\n",
    "The hardest part has been definitely working with new applications like tira, docker and git. There have been many problems to make them work, but at least some solutions have been found. The easiest part has been python programming, because im the most familiar with this programming language. I didn't know though that you can add a dictionary to a list without declaring it first. Finding a theme was also more complicated, than I thought it would be. I didn't want to choose a theme, which would be too broad or too specific. I chose multimedia retrieval, because that iterests me the most at this point - and i'm very curious to find more about it."
   ]
  },
  {
   "cell_type": "markdown",
   "id": "c5299b89",
   "metadata": {},
   "source": [
    "#### Justin"
   ]
  },
  {
   "attachments": {},
   "cell_type": "markdown",
   "id": "cecae3ae",
   "metadata": {},
   "source": [
    "#### Pauline\n",
    "\n",
    "I broke my leg, so I could not be present at the labs. My team updated me on everything and in that way I could catch up with what I had missed. I was not involved in the creation of the json file. At least, I managed to install all needed programs. We were running in some problems when we were doing the tira excercise to import the dataset. We all are using a windows and it showed the error message that it could not find the desired docker. The Problem was solved when we wrote an email to Kai and could visit him. Apparently, the git bash could not deal with the commands, so when we switched to the windows powershell everything worked. For the creation of my topic, I used the anthology, which helped a lot to get an idea of the data and possible topics. I am a bit worried since my laptop was workking pretty slow, and working with the big dataset might become problematic."
   ]
  },
  {
   "cell_type": "markdown",
   "id": "b1f614e3-7fe6-4d84-9f25-47fc9b341ccb",
   "metadata": {},
   "source": [
    "### Example Reflection Cell\n",
    "\n",
    "Working on this notebook was difficult, because it is not the real notebook but just an example. My experience in writing notebooks helped speed up the process, for example knowing that there are different types of cells. However, it was difficult to figure our what to write exactly in order to make sure the students understand what they are supposed to do as I could not test it before giving it to the students."
   ]
  },
  {
   "cell_type": "markdown",
   "id": "521f2ffe",
   "metadata": {},
   "source": []
  }
 ],
 "metadata": {
  "kernelspec": {
   "display_name": "Python 3 (ipykernel)",
   "language": "python",
   "name": "python3"
  },
  "language_info": {
   "codemirror_mode": {
    "name": "ipython",
    "version": 3
   },
   "file_extension": ".py",
   "mimetype": "text/x-python",
   "name": "python",
   "nbconvert_exporter": "python",
   "pygments_lexer": "ipython3",
   "version": "3.10.8"
  }
 },
 "nbformat": 4,
 "nbformat_minor": 5
}
